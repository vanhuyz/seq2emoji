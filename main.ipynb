{
 "cells": [
  {
   "cell_type": "code",
   "execution_count": 368,
   "metadata": {
    "collapsed": false
   },
   "outputs": [],
   "source": [
    "%matplotlib inline\n",
    "from __future__ import print_function\n",
    "import collections\n",
    "import math\n",
    "import numpy as np\n",
    "import os\n",
    "import random\n",
    "import tensorflow as tf\n",
    "from matplotlib import pylab\n",
    "from six.moves import range\n",
    "from six.moves.urllib.request import urlretrieve\n",
    "from sklearn.manifold import TSNE\n",
    "import MeCab\n",
    "import emoji as Emoji"
   ]
  },
  {
   "cell_type": "code",
   "execution_count": 369,
   "metadata": {
    "collapsed": true
   },
   "outputs": [],
   "source": [
    "from sequence import Sequence\n",
    "from load_emojis import load_emojis"
   ]
  },
  {
   "cell_type": "code",
   "execution_count": 370,
   "metadata": {
    "collapsed": false
   },
   "outputs": [
    {
     "name": "stdout",
     "output_type": "stream",
     "text": [
      "['坂本', 'です', 'が']\n"
     ]
    }
   ],
   "source": [
    "mecab = MeCab.Tagger(\"-Owakati\")\n",
    "wakati = mecab.parse(\"坂本ですが\").split()\n",
    "print(wakati)"
   ]
  },
  {
   "cell_type": "code",
   "execution_count": 522,
   "metadata": {
    "collapsed": false
   },
   "outputs": [
    {
     "name": "stdout",
     "output_type": "stream",
     "text": [
      "Data size 489324\n",
      "['筋', 'トレガンバ', '💪', '載せる', '😻', 'さき', 'な', 'おめでとう', '💓', '毎日', 'パイン', 'ジュース', '飲ん', 'でる', 'さき', 'な', 'ちゃん', 'たま', 'に', 'は']\n",
      "Sequences size 62742\n",
      "[['筋', 'トレガンバ', '💪'], ['載せる', '😻'], ['さき', 'な', 'おめでとう', '💓'], ['毎日', 'パイン', 'ジュース', '飲ん', 'でる', 'さき', 'な', 'ちゃん', 'たま', 'に', 'は', '惚気', '聞い', 'て', 'あげる', '😙'], ['結婚式', 'よん', 'で', 'ね', '☺', '️🍀']]\n"
     ]
    }
   ],
   "source": [
    "def read_data():\n",
    "  \"\"\"Get data from MongoDB as a list of words\"\"\"\n",
    "  #   with zipfile.ZipFile(filename) as f:\n",
    "  #     data = tf.compat.as_str(f.read(f.namelist()[0])).split()\n",
    "  #   return data\n",
    "  words = list()\n",
    "  sequences = list()\n",
    "  for sequence in Sequence.objects:\n",
    "    words_in_sequence = mecab.parse(sequence.content).split()\n",
    "    words.extend(words_in_sequence)\n",
    "    sequences.append(words_in_sequence)\n",
    "  return words, sequences\n",
    "    \n",
    "words, sequences = read_data()\n",
    "print('Data size %d' % len(words))\n",
    "print(words[:20])\n",
    "print('Sequences size %d' % len(sequences))\n",
    "print(sequences[:5])"
   ]
  },
  {
   "cell_type": "code",
   "execution_count": 526,
   "metadata": {
    "collapsed": false
   },
   "outputs": [
    {
     "name": "stdout",
     "output_type": "stream",
     "text": [
      "Most common words (+UNK) [['UNK', 4039], ('て', 12645), ('た', 10637), ('の', 9063), ('に', 8063)]\n",
      "Sample data [[4314, 22183, 300], [6394, 163], [1042, 10, 81, 30], [755, 7181, 2611, 1674, 740, 1042, 10, 35, 800, 4, 14, 2678, 652, 1, 840, 842], [2218, 1096, 11, 12, 92, 1779]]\n",
      "['筋', 'トレガンバ', '💪']\n",
      "['載せる', '😻']\n",
      "['さき', 'な', 'おめでとう', '💓']\n",
      "['毎日', 'パイン', 'ジュース', '飲ん', 'でる', 'さき', 'な', 'ちゃん', 'たま', 'に', 'は', '惚気', '聞い', 'て', 'あげる', '😙']\n",
      "['結婚式', 'よん', 'で', 'ね', '☺', '️🍀']\n",
      "30000\n"
     ]
    }
   ],
   "source": [
    "vocabulary_size = 30000\n",
    "\n",
    "def build_dataset(words, sequences):\n",
    "  count = [['UNK', -1]]\n",
    "  count.extend(collections.Counter(words).most_common(vocabulary_size - 1))\n",
    "  dictionary = dict()\n",
    "  for word, _ in count:\n",
    "    dictionary[word] = len(dictionary)\n",
    "  data = list()\n",
    "  unk_count = 0\n",
    "  for sequence in sequences:\n",
    "    data_in_sequence = list()\n",
    "    for word in sequence:\n",
    "      if word in dictionary:\n",
    "        index = dictionary[word]\n",
    "      else:\n",
    "        index = 0  # dictionary['UNK']\n",
    "        unk_count = unk_count + 1\n",
    "      data_in_sequence.append(index)\n",
    "    data.append(data_in_sequence)\n",
    "  count[0][1] = unk_count\n",
    "  reverse_dictionary = dict(zip(dictionary.values(), dictionary.keys())) \n",
    "  return data, count, dictionary, reverse_dictionary\n",
    "\n",
    "data, count, dictionary, reverse_dictionary = build_dataset(words,sequences)\n",
    "print('Most common words (+UNK)', count[:5])\n",
    "print('Sample data', data[:5])\n",
    "for sequence in data[:5]:\n",
    "  print([reverse_dictionary[word] for word in sequence])\n",
    "print(len(dictionary))\n",
    "# for emoji in emojis[:10]:\n",
    "#   print((emoji, dictionary[emoji]), end=\", \")\n",
    "\n",
    "# del words  # Hint to reduce memory."
   ]
  },
  {
   "cell_type": "code",
   "execution_count": 450,
   "metadata": {
    "collapsed": false
   },
   "outputs": [
    {
     "ename": "IndentationError",
     "evalue": "unindent does not match any outer indentation level (<ipython-input-450-98221b518fcc>, line 5)",
     "output_type": "error",
     "traceback": [
      "\u001b[0;36m  File \u001b[0;32m\"<ipython-input-450-98221b518fcc>\"\u001b[0;36m, line \u001b[0;32m5\u001b[0m\n\u001b[0;31m    global data_index\u001b[0m\n\u001b[0m                     ^\u001b[0m\n\u001b[0;31mIndentationError\u001b[0m\u001b[0;31m:\u001b[0m unindent does not match any outer indentation level\n"
     ]
    }
   ],
   "source": [
    "data_index = 0\n",
    "\n",
    "def generate_batch(batch_size, num_skips, skip_window):\n",
    "   \"\"\"Similar to skip-gram but only apply for each sequence\"\"\"\n",
    "  global data_index\n",
    "  assert batch_size % num_skips == 0\n",
    "  assert num_skips <= 2 * skip_window\n",
    "  batch = np.ndarray(shape=(batch_size), dtype=np.int32)\n",
    "  labels = np.ndarray(shape=(batch_size, 1), dtype=np.int32)\n",
    "  span = 2 * skip_window + 1 # [ skip_window target skip_window ]\n",
    "  buffer = collections.deque(maxlen=span)\n",
    "  for _ in range(span):\n",
    "    buffer.append(data[data_index])\n",
    "    data_index = (data_index + 1) % len(data)\n",
    "  for i in range(batch_size // num_skips):\n",
    "    target = skip_window  # target label at the center of the buffer\n",
    "    targets_to_avoid = [ skip_window ]\n",
    "    for j in range(num_skips):\n",
    "      while target in targets_to_avoid:\n",
    "        target = random.randint(0, span - 1)\n",
    "      targets_to_avoid.append(target)\n",
    "      batch[i * num_skips + j] = buffer[skip_window]\n",
    "      labels[i * num_skips + j, 0] = buffer[target]\n",
    "    buffer.append(data[data_index])\n",
    "    data_index = (data_index + 1) % len(data)\n",
    "  return batch, labels\n",
    "\n",
    "print('data:', [reverse_dictionary[di] for di in data[:8]])\n",
    "\n",
    "for num_skips, skip_window in [(2, 1), (4, 2)]:\n",
    "    data_index = 0\n",
    "    batch, labels = generate_batch(batch_size=8, num_skips=num_skips, skip_window=skip_window)\n",
    "    print('\\nwith num_skips = %d and skip_window = %d:' % (num_skips, skip_window))\n",
    "    print('    batch:', [reverse_dictionary[bi] for bi in batch])\n",
    "    print('    labels:', [reverse_dictionary[li] for li in labels.reshape(8)])"
   ]
  },
  {
   "cell_type": "code",
   "execution_count": 531,
   "metadata": {
    "collapsed": false
   },
   "outputs": [
    {
     "name": "stdout",
     "output_type": "stream",
     "text": [
      "[676, 243, 11, 73, 0, 844, 2, 25]\n",
      "    batch: ['最近', '最近', 'で', 'で', '1', '1', 'UNK', 'UNK', '使っ', '使っ', 'た', 'た']\n",
      "    labels: ['ここ', 'で', '最近', '1', 'で', 'UNK', '1', '使っ', 'UNK', 'た', '使っ', '💭']\n"
     ]
    }
   ],
   "source": [
    "def generate_batch_in_sequence(sequence):\n",
    "  \"\"\"\"num_skips = 2, skip_window = 1\"\"\"\n",
    "  batch = list()\n",
    "  labels = list()\n",
    "  for i in range(1,len(sequence)-1):\n",
    "#     buffer = [sequence[i-1:i+1]\n",
    "    batch.extend([sequence[i], sequence[i]])\n",
    "    labels.extend([sequence[i-1], sequence[i+1]])\n",
    "  return batch, labels\n",
    "#   for _ in range(span):\n",
    "#     buffer.append(data[data_index])\n",
    "#     data_index = (data_index + 1) % len(data)\n",
    "#   for i in range(batch_size // num_skips):\n",
    "#     target = skip_window  # target label at the center of the buffer\n",
    "#     targets_to_avoid = [ skip_window ]\n",
    "#     for j in range(num_skips):\n",
    "#       while target in targets_to_avoid:\n",
    "#         target = random.randint(0, span - 1)\n",
    "#       targets_to_avoid.append(target)\n",
    "#       batch[i * num_skips + j] = buffer[skip_window]\n",
    "#       labels[i * num_skips + j, 0] = buffer[target]\n",
    "#     buffer.append(data[data_index])\n",
    "#     data_index = (data_index + 1) % len(data)\n",
    "#   return batch, labels\n",
    "\n",
    "# print('data:', [reverse_dictionary[di] for di in data[:8]])\n",
    "\n",
    "# for num_skips, skip_window in [(2, 1), (4, 2)]:\n",
    "#     data_index = 0\n",
    "#     batch, labels = generate_batch(batch_size=8, num_skips=num_skips, skip_window=skip_window)\n",
    "#     print('\\nwith num_skips = %d and skip_window = %d:' % (num_skips, skip_window))\n",
    "#     print('    batch:', [reverse_dictionary[bi] for bi in batch])\n",
    "#     print('    labels:', [reverse_dictionary[li] for li in labels.reshape(8)])\n",
    "\n",
    "seq = data[9]\n",
    "batch, labels = generate_batch_in_sequence(seq)\n",
    "print(seq)\n",
    "print('    batch:', [reverse_dictionary[bi] for bi in batch])\n",
    "print('    labels:', [reverse_dictionary[li] for li in labels])"
   ]
  },
  {
   "cell_type": "code",
   "execution_count": 541,
   "metadata": {
    "collapsed": false
   },
   "outputs": [],
   "source": [
    "def generate_train(data):\n",
    "  all_train_data = list()\n",
    "  all_train_labels = list()\n",
    "  for sequence in data:\n",
    "    batch, labels = generate_batch_in_sequence(sequence)\n",
    "    all_train_data.extend(batch)\n",
    "    all_train_labels.extend(labels)\n",
    "  return all_train_data, all_train_labels\n",
    "\n",
    "all_train_data, all_train_labels = generate_train(data)"
   ]
  },
  {
   "cell_type": "code",
   "execution_count": 546,
   "metadata": {
    "collapsed": false
   },
   "outputs": [
    {
     "name": "stdout",
     "output_type": "stream",
     "text": [
      "[22183, 22183, 10, 10, 81, 81, 7181, 7181]\n",
      "[[4314]\n",
      " [ 300]\n",
      " [1042]\n",
      " [  81]\n",
      " [  10]\n",
      " [  30]\n",
      " [ 755]\n",
      " [2611]]\n"
     ]
    }
   ],
   "source": [
    "data_index = 0\n",
    "def generate_batch(batch_size):\n",
    "  global data_index\n",
    "  batch = np.ndarray(shape=(batch_size), dtype=np.int32)\n",
    "  labels = np.ndarray(shape=(batch_size, 1), dtype=np.int32)\n",
    "  batch = all_train_data[data_index:data_index+batch_size]\n",
    "  labels[:,0] = all_train_labels[data_index:data_index+batch_size]\n",
    "  data_index = data_index + 1\n",
    "  return batch, labels\n",
    "\n",
    "batch, labels = generate_batch(8)\n",
    "print(batch)\n",
    "print(labels)"
   ]
  },
  {
   "cell_type": "code",
   "execution_count": 547,
   "metadata": {
    "collapsed": true
   },
   "outputs": [],
   "source": [
    "batch_size = 128\n",
    "embedding_size = 128 # Dimension of the embedding vector.\n",
    "skip_window = 1 # How many words to consider left and right.\n",
    "num_skips = 2 # How many times to reuse an input to generate a label.\n",
    "# We pick a random validation set to sample nearest neighbors. here we limit the\n",
    "# validation samples to the words that have a low numeric ID, which by\n",
    "# construction are also the most frequent. \n",
    "valid_size = 16 # Random set of words to evaluate similarity on.\n",
    "valid_window = 100 # Only pick dev samples in the head of the distribution.\n",
    "# valid_examples = np.array(random.sample(range(valid_window), valid_size))\n",
    "valid_examples = [dictionary[emoji] for emoji in emojis[:valid_size]]\n",
    "num_sampled = 64 # Number of negative examples to sample.\n",
    "\n",
    "graph = tf.Graph()\n",
    "\n",
    "with graph.as_default(), tf.device('/cpu:0'):\n",
    "\n",
    "  # Input data.\n",
    "  train_dataset = tf.placeholder(tf.int32, shape=[batch_size])\n",
    "  train_labels = tf.placeholder(tf.int32, shape=[batch_size, 1])\n",
    "  valid_dataset = tf.constant(valid_examples, dtype=tf.int32)\n",
    "  \n",
    "  # Variables.\n",
    "  embeddings = tf.Variable(\n",
    "    tf.random_uniform([vocabulary_size, embedding_size], -1.0, 1.0))\n",
    "  softmax_weights = tf.Variable(\n",
    "    tf.truncated_normal([vocabulary_size, embedding_size],\n",
    "                         stddev=1.0 / math.sqrt(embedding_size)))\n",
    "  softmax_biases = tf.Variable(tf.zeros([vocabulary_size]))\n",
    "  \n",
    "  # Model.\n",
    "  # Look up embeddings for inputs.\n",
    "  embed = tf.nn.embedding_lookup(embeddings, train_dataset)\n",
    "  # Compute the softmax loss, using a sample of the negative labels each time.\n",
    "  loss = tf.reduce_mean(\n",
    "    tf.nn.sampled_softmax_loss(softmax_weights, softmax_biases, embed,\n",
    "                               train_labels, num_sampled, vocabulary_size))\n",
    "\n",
    "  # Optimizer.\n",
    "  # Note: The optimizer will optimize the softmax_weights AND the embeddings.\n",
    "  # This is because the embeddings are defined as a variable quantity and the\n",
    "  # optimizer's `minimize` method will by default modify all variable quantities \n",
    "  # that contribute to the tensor it is passed.\n",
    "  # See docs on `tf.train.Optimizer.minimize()` for more details.\n",
    "  optimizer = tf.train.AdagradOptimizer(1.0).minimize(loss)\n",
    "  \n",
    "  # Compute the similarity between minibatch examples and all embeddings.\n",
    "  # We use the cosine distance:\n",
    "  norm = tf.sqrt(tf.reduce_sum(tf.square(embeddings), 1, keep_dims=True))\n",
    "  normalized_embeddings = embeddings / norm\n",
    "  valid_embeddings = tf.nn.embedding_lookup(\n",
    "    normalized_embeddings, valid_dataset)\n",
    "  similarity = tf.matmul(valid_embeddings, tf.transpose(normalized_embeddings))"
   ]
  },
  {
   "cell_type": "code",
   "execution_count": 435,
   "metadata": {
    "collapsed": false
   },
   "outputs": [
    {
     "name": "stdout",
     "output_type": "stream",
     "text": [
      "[624, 102, 32, 532, 358, 186, 138, 110, 42, 207, 182, 80, 72, 882, 842, 267]\n"
     ]
    }
   ],
   "source": [
    "# valid_examples = np.array(random.sample(range(valid_window), valid_size))\n",
    "valid_examples = [dictionary[emoji] for emoji in emojis[:valid_size]]\n",
    "print(valid_examples)"
   ]
  },
  {
   "cell_type": "code",
   "execution_count": 548,
   "metadata": {
    "collapsed": false
   },
   "outputs": [
    {
     "name": "stdout",
     "output_type": "stream",
     "text": [
      "Initialized\n",
      "Average loss at step 0: 7.570962\n",
      "Nearest to 😀: KANA, ゃねぇよっっ, エクステンデッド, 今後, 🐺👑, こい, 😑👍, ゟ,\n",
      "Nearest to 😁: シャー, はなそ, ifyou, 💪💨, 🐻🍯, 球, びしばし, ˙༥˙,\n",
      "Nearest to 😂: 一直線, 墓穴, 一昨日, 邸, かいせ, かっぱえびせん, 前田, 🍋,\n",
      "Nearest to 😃: ゅかれたまぁん, おさらば, 💬🍃, ジヨン, 咦, ぷる, 9998, 👂🏻💞,\n",
      "Nearest to 😄: ｳﾗﾔﾏ, 島崎, でかけ, 程よく, トライアングルワンピ, ズボン, 暑, 廻,\n",
      "Nearest to 😅: BoccinoBar, ｽ, ネギ, 福神, 尽くす, たのしも, ｵｫｫ, 確保,\n",
      "Nearest to 😆: ！〟, ぽん, 感謝, 👂🏻💞, 500, プチ, ジンギスカン, 被写体,\n",
      "Nearest to 😉: 大河, 🙉💓, ˃˂💓, 💞🎂, 両手, 🙄💗, ふきん, アリガトーウ,\n",
      "Nearest to 😊: ٚ˂̶॰, ☀⚡, 乃, 👶🏻💙, ！☁☁☁☁☁☁☁☁☁☁☁☁☁☁, 👑💓, 📚🍃, ヒーロー,\n",
      "Nearest to 😋: ゎふゎでもない, 😤💨💨, 帰れる, 舛添, 思いっきり, でる, 💕💭👭, ぶさ,\n",
      "Nearest to 😎: ベリー, ︎💚, 😤🌟, もらお, 😻💚, ‧, 植木, 詰める,\n",
      "Nearest to 😍: 評判, ソコ, DisneySea, 🌷💗, にくく, 🎂🎉👏🏻🍰🎁💝, さりげ, エク,\n",
      "Nearest to 😘: モニター, 😣💧, イベ, ぃがやさん, mappy, 内, ~~~。, 感,\n",
      "Nearest to 😗: 賑やか, 🐠🐠🐠🐠, 😘🙌, ますみ, ひびき, ∂, つまみ食い, ふざけ,\n",
      "Nearest to 😙: 海部, 目指せ, _-, イケメンアイドル, 😢😢💕💕💕, HappyBirthDay, 剤, もしかして,\n",
      "Nearest to 😚: ｸﾞｰﾙ, ～～～✋, (´△｀), にて, tomelt, 🔥🔥🔥, 資格, 🙊💛,\n",
      "Average loss at step 2000: 0.402690\n",
      "Average loss at step 4000: 0.369973\n",
      "Average loss at step 6000: 0.336455\n",
      "Average loss at step 8000: 0.339974\n",
      "Average loss at step 10000: 0.356474\n",
      "Nearest to 😀: KANA, ゃねぇよっっ, エクステンデッド, 今後, 🐺👑, こい, 😑👍, ゟ,\n",
      "Nearest to 😁: シャー, はなそ, ifyou, 💪💨, びしばし, 🐻🍯, 球, ˙༥˙,\n",
      "Nearest to 😂: 一直線, 墓穴, 一昨日, 邸, かいせ, かっぱえびせん, 前田, 🍋,\n",
      "Nearest to 😃: ゅかれたまぁん, 9998, 💬🍃, おさらば, ジヨン, だめ, ¯*), °,\n",
      "Nearest to 😄: ｳﾗﾔﾏ, 島崎, でかけ, 程よく, トライアングルワンピ, ズボン, 廻, 暑,\n",
      "Nearest to 😅: BoccinoBar, ｽ, ネギ, 福神, 尽くす, たのしも, ｵｫｫ, 確保,\n",
      "Nearest to 😆: ！〟, ぽん, 👂🏻💞, 500, 感謝, プチ, ジンギスカン, 被写体,\n",
      "Nearest to 😉: 大河, 🙉💓, ˃˂💓, 💞🎂, 両手, 🙄💗, ふきん, アリガトーウ,\n",
      "Nearest to 😊: ٚ˂̶॰, ☀⚡, 📚🍃, 👶🏻💙, 👑💓, ！☁☁☁☁☁☁☁☁☁☁☁☁☁☁, 乃, ！！！！！！！！！！！！！！！！,\n",
      "Nearest to 😋: ゎふゎでもない, 😤💨💨, 帰れる, 舛添, 思いっきり, 💕💭👭, ぶさ, みな,\n",
      "Nearest to 😎: ベリー, ︎💚, 😤🌟, もらお, 😻💚, ‧, 植木, 詰める,\n",
      "Nearest to 😍: 評判, ソコ, DisneySea, 🌷💗, にくく, 🎂🎉👏🏻🍰🎁💝, さりげ, エク,\n",
      "Nearest to 😘: モニター, 😣💧, イベ, ぃがやさん, mappy, 内, ツアー, ~~~。,\n",
      "Nearest to 😗: 賑やか, 🐠🐠🐠🐠, 😘🙌, ますみ, ひびき, ∂, つまみ食い, ふざけ,\n",
      "Nearest to 😙: 海部, 目指せ, _-, イケメンアイドル, 😢😢💕💕💕, HappyBirthDay, 剤, もしかして,\n",
      "Nearest to 😚: ｸﾞｰﾙ, ～～～✋, (´△｀), 資格, にて, 🔥🔥🔥, tomelt, BUwhimwVEi,\n",
      "Average loss at step 12000: 0.365662\n",
      "Average loss at step 14000: 0.345048\n",
      "Average loss at step 16000: 0.335652\n",
      "Average loss at step 18000: 0.377358\n",
      "Average loss at step 20000: 0.354191\n",
      "Nearest to 😀: KANA, ゃねぇよっっ, エクステンデッド, 今後, 🐺👑, こい, 😑👍, ゟ,\n",
      "Nearest to 😁: シャー, はなそ, ifyou, 💪💨, びしばし, 🐻🍯, 球, ˙༥˙,\n",
      "Nearest to 😂: 一直線, 墓穴, 前田, 一昨日, 邸, かいせ, かっぱえびせん, 🍋,\n",
      "Nearest to 😃: ゅかれたまぁん, 9998, 💬🍃, おさらば, ジヨン, だめ, ¯*), °,\n",
      "Nearest to 😄: でかけ, ｳﾗﾔﾏ, 島崎, トライアングルワンピ, ズボン, 程よく, ゅきわん, 暑,\n",
      "Nearest to 😅: BoccinoBar, ｽ, ネギ, 福神, 尽くす, たのしも, ｵｫｫ, 確保,\n",
      "Nearest to 😆: ！〟, 河原町, プチ, ぽん, 👐᷇࿀᷆, 500, 感謝, 〓,\n",
      "Nearest to 😉: 大河, 🙉💓, ˃˂💓, 💞🎂, 両手, 🙄💗, ふきん, アリガトーウ,\n",
      "Nearest to 😊: ٚ˂̶॰, ☀⚡, 👶🏻💙, 会っ, ！☁☁☁☁☁☁☁☁☁☁☁☁☁☁, ！！！！！！！！！！！！！！！！, ｸﾞ, 📚🍃,\n",
      "Nearest to 😋: ゎふゎでもない, 😤💨💨, 帰れる, 舛添, 思いっきり, 💕💭👭, ぶさ, みな,\n",
      "Nearest to 😎: 😻💚, ︎💚, ベリー, 植木, 😤🌟, 優希, 城, もらお,\n",
      "Nearest to 😍: 🌷💗, 評判, DisneySea, 可愛く, ソコ, にくく, 🎂🎉👏🏻🍰🎁💝, 吹き飛び,\n",
      "Nearest to 😘: モニター, 内, イベ, 😣💧, ぃがやさん, ツアー, むちゃくちゃ, 端っこ,\n",
      "Nearest to 😗: 賑やか, 🐠🐠🐠🐠, 😘🙌, ますみ, ひびき, ∂, つまみ食い, ふざけ,\n",
      "Nearest to 😙: 海部, 目指せ, _-, イケメンアイドル, 😢😢💕💕💕, 剤, もしかして, LionHeartandBeepBeep,\n",
      "Nearest to 😚: ｸﾞｰﾙ, ～～～✋, (´△｀), 資格, 🔥🔥🔥, にて, tomelt, BUwhimwVEi,\n",
      "Average loss at step 22000: 0.352154\n",
      "Average loss at step 24000: 0.329199\n",
      "Average loss at step 26000: 0.323423\n",
      "Average loss at step 28000: 0.378302\n",
      "Average loss at step 30000: 0.348390\n",
      "Nearest to 😀: KANA, ゃねぇよっっ, エクステンデッド, 今後, 🐺👑, こい, 😑👍, ゟ,\n",
      "Nearest to 😁: シャー, はなそ, ifyou, 🐻🍯, 偏差, びしばし, 💪💨, オーラル,\n",
      "Nearest to 😂: かいせ, かっぱえびせん, 一昨日, 🍋, 前田, 墓穴, ゃぷてんとはもっと, 一直線,\n",
      "Nearest to 😃: ゅかれたまぁん, 9998, 💬🍃, おさらば, ジヨン, だめ, ¯*), °,\n",
      "Nearest to 😄: でかけ, ｳﾗﾔﾏ, 島崎, トライアングルワンピ, ズボン, 程よく, ゅきわん, 暑,\n",
      "Nearest to 😅: BoccinoBar, ｽ, ネギ, 福神, 尽くす, たのしも, ｵｫｫ, 確保,\n",
      "Nearest to 😆: ！〟, 河原町, プチ, ぽん, 👐᷇࿀᷆, 500, 〓, 👂🏻💞,\n",
      "Nearest to 😉: 大河, 🙉💓, ˃˂💓, 💞🎂, 両手, 🙄💗, ふきん, アリガトーウ,\n",
      "Nearest to 😊: ☀⚡, ٚ˂̶॰, 👑💓, 会っ, 香里, ！☁☁☁☁☁☁☁☁☁☁☁☁☁☁, メイキング, 😏👍💕,\n",
      "Nearest to 😋: ゎふゎでもない, 😤💨💨, 帰れる, 舛添, 思いっきり, 💕💭👭, ぶさ, みな,\n",
      "Nearest to 😎: 城, 😻💚, ︎💚, ベリー, 植木, 😤🌟, 優希, もらお,\n",
      "Nearest to 😍: 🌷💗, 評判, DisneySea, 🎂🎉👏🏻🍰🎁💝, 吹き飛び, リカ, whatdoIexpect, 👭📸💜,\n",
      "Nearest to 😘: モニター, 内, イベ, 😣💧, ぃがやさん, むちゃくちゃ, 端っこ, mappy,\n",
      "Nearest to 😗: 賑やか, 🐠🐠🐠🐠, 😘🙌, ますみ, ひびき, ∂, つまみ食い, ふざけ,\n",
      "Nearest to 😙: 海部, 目指せ, _-, イケメンアイドル, 😢😢💕💕💕, 剤, もしかして, LionHeartandBeepBeep,\n",
      "Nearest to 😚: ｸﾞｰﾙ, ～～～✋, にて, (´△｀), 🔥🔥🔥, 資格, tomelt, にく,\n",
      "Average loss at step 32000: 0.360335\n",
      "Average loss at step 34000: 0.349211\n",
      "Average loss at step 36000: 0.360765\n",
      "Average loss at step 38000: 0.331481\n",
      "Average loss at step 40000: 0.377978\n",
      "Nearest to 😀: KANA, ゃねぇよっっ, エクステンデッド, 今後, 🐺👑, こい, 😑👍, ゟ,\n",
      "Nearest to 😁: シャー, はなそ, ifyou, 🐻🍯, 偏差, びしばし, 💪💨, オーラル,\n",
      "Nearest to 😂: かいせ, かっぱえびせん, 🍋, 前田, 一昨日, ラフォーレミュージアム, そく, 一直線,\n",
      "Nearest to 😃: ゅかれたまぁん, ？✋, おさらば, ぷる, manlv, だめ, ジヨン, °,\n",
      "Nearest to 😄: でかけ, ｳﾗﾔﾏ, 島崎, トライアングルワンピ, ズボン, 程よく, ゅきわん, 暑,\n",
      "Nearest to 😅: BoccinoBar, ｽ, ネギ, 福神, 尽くす, たのしも, ｵｫｫ, 確保,\n",
      "Nearest to 😆: ！〟, 河原町, プチ, 大切, 感謝, ぽん, 👐᷇࿀᷆, 500,\n",
      "Nearest to 😉: 🙉💓, 😠😠😠, ˃˂💓, 大河, 両手, 💞🎂, ふきん, 咎,\n",
      "Nearest to 😊: ☀⚡, ٚ˂̶॰, 香里, 👑💓, 会っ, 📚🍃, 体調, クエ,\n",
      "Nearest to 😋: 😤💨💨, ゎふゎでもない, 帰れる, みな, 舛添, ぶさ, 思いっきり, 💕💭👭,\n",
      "Nearest to 😎: 城, 😻💚, ︎💚, ベリー, 植木, 😤🌟, 優希, もらお,\n",
      "Nearest to 😍: 評判, 🌷💗, DisneySea, whatdoIexpect, 吹き飛び, リカ, にくく, 🎂🎉👏🏻🍰🎁💝,\n",
      "Nearest to 😘: 内, モニター, 😣💧, イベ, ぃがやさん, 端っこ, 切れ, ヘビロテ,\n",
      "Nearest to 😗: 賑やか, 🐠🐠🐠🐠, 😘🙌, ますみ, ひびき, ∂, つまみ食い, 気づか,\n",
      "Nearest to 😙: 海部, 目指せ, _-, イケメンアイドル, 😢😢💕💕💕, もしかして, 剤, LionHeartandBeepBeep,\n",
      "Nearest to 😚: ｸﾞｰﾙ, ～～～✋, にく, にて, (´△｀), 🔥🔥🔥, 資格, tomelt,\n",
      "Average loss at step 42000: 0.365613\n",
      "Average loss at step 44000: 0.337162\n",
      "Average loss at step 46000: 0.350903\n",
      "Average loss at step 48000: 0.334857\n",
      "Average loss at step 50000: 0.385343\n",
      "Nearest to 😀: KANA, ゃねぇよっっ, エクステンデッド, 今後, 🐺👑, こい, なんて, 😑👍,\n",
      "Nearest to 😁: シャー, はなそ, ifyou, 🐻🍯, 偏差, びしばし, 💪💨, オーラル,\n",
      "Nearest to 😂: かいせ, かっぱえびせん, 🍋, 前田, 一昨日, ラフォーレミュージアム, そく, 一直線,\n",
      "Nearest to 😃: おさらば, ゅかれたまぁん, ぷる, ？✋, でんぱ, 9998, ちょうど, ¯*),\n",
      "Nearest to 😄: でかけ, ｳﾗﾔﾏ, 島崎, トライアングルワンピ, ズボン, 程よく, ゅきわん, 暑,\n",
      "Nearest to 😅: BoccinoBar, たのしも, ｽ, ネギ, 福神, 尽くす, ｵｫｫ, 確保,\n",
      "Nearest to 😆: ！〟, 河原町, プチ, 感謝, 500, ぽん, 👐᷇࿀᷆, 大切,\n",
      "Nearest to 😉: 🙉💓, 両手, 😠😠😠, ˃˂💓, 💞🎂, 大河, 咎, アリガトーウ,\n",
      "Nearest to 😊: ☀⚡, ٚ˂̶॰, 香里, 👑💓, 📚🍃, 体調, クエ, ⸅̨᷇͞͞ˬ̵̮̑̉⸅̮̖᷆,\n",
      "Nearest to 😋: 😤💨💨, ゎふゎでもない, 帰れる, みな, 舛添, ぶさ, 思いっきり, 💕💭👭,\n",
      "Nearest to 😎: 城, 😻💚, ︎💚, ベリー, 植木, 😤🌟, 優希, もらお,\n",
      "Nearest to 😍: 🌷💗, whatdoIexpect, DisneySea, 評判, 🎂🎉👏🏻🍰🎁💝, いたん, イチカワ, アントラーズ,\n",
      "Nearest to 😘: モニター, 😣💧, 内, ぃがやさん, 端っこ, 切れ, イベ, ヘビロテ,\n",
      "Nearest to 😗: 賑やか, 🐠🐠🐠🐠, 😘🙌, ますみ, ひびき, ∂, つまみ食い, 気づか,\n",
      "Nearest to 😙: 海部, 目指せ, _-, イケメンアイドル, 😢😢💕💕💕, もしかして, 表情, 剤,\n",
      "Nearest to 😚: ｸﾞｰﾙ, ～～～✋, にく, にて, (´△｀), 🔥🔥🔥, 資格, tomelt,\n",
      "Average loss at step 52000: 0.383022\n",
      "Average loss at step 54000: 0.382427\n",
      "Average loss at step 56000: 0.383991\n",
      "Average loss at step 58000: 0.352918\n",
      "Average loss at step 60000: 0.338970\n",
      "Nearest to 😀: KANA, ゃねぇよっっ, エクステンデッド, 今後, 🐺👑, こい, 😑👍, ゟ,\n",
      "Nearest to 😁: シャー, はなそ, ifyou, 🐻🍯, 偏差, びしばし, 💪💨, オーラル,\n",
      "Nearest to 😂: かいせ, かっぱえびせん, 🍋, 前田, 一昨日, ラフォーレミュージアム, 一直線, 散歩道,\n",
      "Nearest to 😃: ゅかれたまぁん, おさらば, ぷる, ？✋, でんぱ, ちょうど, 9998, manlv,\n",
      "Nearest to 😄: でかけ, ズボン, 島崎, ｳﾗﾔﾏ, ゅきわん, トライアングルワンピ, 程よく, さやか,\n",
      "Nearest to 😅: たのしも, 福神, BoccinoBar, ｽ, 確保, Cananybody, ｵｫｫ, NextTour,\n",
      "Nearest to 😆: ！〟, プチ, 河原町, ぇる, ぽん, 〓, 都農, 感謝,\n",
      "Nearest to 😉: 🙉💓, 両手, 😠😠😠, ˃˂💓, 💞🎂, 大河, 咎, アリガトーウ,\n",
      "Nearest to 😊: ☀⚡, ٚ˂̶॰, 📚🍃, 香里, 👑💓, クエ, 👶🏻💙, ⸅̨᷇͞͞ˬ̵̮̑̉⸅̮̖᷆,\n",
      "Nearest to 😋: 😤💨💨, ゎふゎでもない, 帰れる, みな, 舛添, ぶさ, 思いっきり, 💕💭👭,\n",
      "Nearest to 😎: 😻💚, ︎💚, ベリー, 植木, 😤🌟, 優希, もらお, ‧,\n",
      "Nearest to 😍: 評判, whatdoIexpect, 🌷💗, 🎂🎉👏🏻🍰🎁💝, にくく, リカ, イチカワ, 吹き飛び,\n",
      "Nearest to 😘: mappy, 端っこ, 😣💧, ピク, 内, ぃがやさん, 下がり目, イベ,\n",
      "Nearest to 😗: 賑やか, 🐠🐠🐠🐠, 😘🙌, ますみ, ひびき, ∂, つまみ食い, 気づか,\n",
      "Nearest to 😙: 海部, 目指せ, _-, イケメンアイドル, 😢😢💕💕💕, もしかして, 表情, 剤,\n",
      "Nearest to 😚: ｸﾞｰﾙ, ～～～✋, にく, にて, (´△｀), 🔥🔥🔥, 資格, tomelt,\n",
      "Average loss at step 62000: 0.368069\n",
      "Average loss at step 64000: 0.361720\n",
      "Average loss at step 66000: 0.358238\n",
      "Average loss at step 68000: 0.366631\n",
      "Average loss at step 70000: 0.383682\n",
      "Nearest to 😀: KANA, ゃねぇよっっ, /., エクステンデッド, 😑👍, 😄🤘, 今後, 検討,\n",
      "Nearest to 😁: シャー, はなそ, ifyou, 🐻🍯, 偏差, びしばし, 💪💨, オーラル,\n",
      "Nearest to 😂: かいせ, かっぱえびせん, 🍋, 一直線, 凡人, 前田, 一昨日, ぎなんだあいつ,\n",
      "Nearest to 😃: ゅかれたまぁん, おさらば, ぷる, ？✋, でんぱ, ちょうど, 9998, manlv,\n",
      "Nearest to 😄: でかけ, ズボン, 島崎, ｳﾗﾔﾏ, ゅきわん, トライアングルワンピ, 程よく, さやか,\n",
      "Nearest to 😅: たのしも, BoccinoBar, ムズカシイ, 確保, 福神, ≦)/, ツーショット, Cananybody,\n",
      "Nearest to 😆: ！〟, プチ, 河原町, ぽん, ぇる, 〓, 都農, 👐᷇࿀᷆,\n",
      "Nearest to 😉: 🙉💓, 両手, 😠😠😠, ˃˂💓, 💞🎂, グッズ, 大河, 咎,\n",
      "Nearest to 😊: ☀⚡, ٚ˂̶॰, 👑💓, 目指し, 香里, クエ, ！！！！！！！！！！！！！！！！, マジレス,\n",
      "Nearest to 😋: 😤💨💨, ゎふゎでもない, 帰れる, みな, 舛添, ぶさ, 思いっきり, 💕💭👭,\n",
      "Nearest to 😎: 😻💚, ︎💚, ベリー, 植木, 😤🌟, 優希, もらお, ‧,\n",
      "Nearest to 😍: 🌷💗, イチカワ, 評判, 吹き飛び, 🎂🎉👏🏻🍰🎁💝, にくく, whatdoIexpect, 🔱,\n",
      "Nearest to 😘: mappy, 端っこ, 😣💧, ピク, 内, ぃがやさん, 下がり目, むちゃくちゃ,\n",
      "Nearest to 😗: 賑やか, 🐠🐠🐠🐠, 😘🙌, ますみ, ひびき, ∂, つまみ食い, 気づか,\n",
      "Nearest to 😙: 海部, 目指せ, _-, イケメンアイドル, 😢😢💕💕💕, もしかして, 表情, 剤,\n",
      "Nearest to 😚: ｸﾞｰﾙ, ～～～✋, にく, にて, (´△｀), 🔥🔥🔥, 資格, tomelt,\n",
      "Average loss at step 72000: 0.379088\n",
      "Average loss at step 74000: 0.362907\n",
      "Average loss at step 76000: 0.355942\n",
      "Average loss at step 78000: 0.378633\n",
      "Average loss at step 80000: 0.373045\n",
      "Nearest to 😀: KANA, ゃねぇよっっ, /., エクステンデッド, 😑👍, 😄🤘, 今後, 検討,\n",
      "Nearest to 😁: シャー, はなそ, ゃもんどゆこと, ifyou, 地元, ❤, (*｀･, びゅ,\n",
      "Nearest to 😂: かっぱえびせん, 🍋, かいせ, 一直線, 一昨日, 凡人, 前田, 墓穴,\n",
      "Nearest to 😃: ゅかれたまぁん, おさらば, ぷる, ？✋, でんぱ, ちょうど, 9998, manlv,\n",
      "Nearest to 😄: ズボン, 島崎, ｳﾗﾔﾏ, でかけ, ゅきわん, トライアングルワンピ, 程よく, さやか,\n",
      "Nearest to 😅: たのしも, BoccinoBar, ムズカシイ, 確保, 福神, ≦)/, ツーショット, じゃ,\n",
      "Nearest to 😆: プチ, 河原町, ！〟, シア, ぇる, 500, チェキネタ, ～(´▽｀*),\n",
      "Nearest to 😉: 🙉💓, 両手, 😠😠😠, ˃˂💓, 💞🎂, グッズ, 大河, 咎,\n",
      "Nearest to 😊: ☀⚡, ٚ˂̶॰, 👑💓, 目指し, 香里, クエ, ！！！！！！！！！！！！！！！！, マジレス,\n",
      "Nearest to 😋: 😤💨💨, ゎふゎでもない, 帰れる, みな, 舛添, ぶさ, 思いっきり, 💕💭👭,\n",
      "Nearest to 😎: 😻💚, ︎💚, ベリー, 植木, 😤🌟, 優希, もらお, ‧,\n",
      "Nearest to 😍: 🌷💗, イチカワ, 評判, 吹き飛び, 🎂🎉👏🏻🍰🎁💝, にくく, whatdoIexpect, 🔱,\n",
      "Nearest to 😘: mappy, 端っこ, 😣💧, ピク, 内, ぃがやさん, 下がり目, むちゃくちゃ,\n",
      "Nearest to 😗: 賑やか, 🐠🐠🐠🐠, 😘🙌, ますみ, ひびき, ∂, つまみ食い, 気づか,\n",
      "Nearest to 😙: 海部, 目指せ, _-, イケメンアイドル, 😢😢💕💕💕, もしかして, 表情, 剤,\n",
      "Nearest to 😚: ｸﾞｰﾙ, ～～～✋, にく, にて, (´△｀), 🔥🔥🔥, 資格, tomelt,\n",
      "Average loss at step 82000: 0.371597\n",
      "Average loss at step 84000: 0.359125\n",
      "Average loss at step 86000: 0.381468\n",
      "Average loss at step 88000: 0.379297\n",
      "Average loss at step 90000: 0.371565\n",
      "Nearest to 😀: ファイトー, KANA, ゃねぇよっっ, /., 😄🤘, かれる, ❔(, 検討,\n",
      "Nearest to 😁: シャー, 地元, ゃもんどゆこと, はなそ, ❤, ifyou, (*｀･, びゅ,\n",
      "Nearest to 😂: かいせ, かっぱえびせん, 🍋, 一昨日, 前田, 一直線, 墓穴, 弁慶,\n",
      "Nearest to 😃: ゅかれたまぁん, おさらば, ぷる, ？✋, でんぱ, ちょうど, 9998, manlv,\n",
      "Nearest to 😄: ズボン, 島崎, ｳﾗﾔﾏ, でかけ, ゅきわん, トライアングルワンピ, 程よく, さやか,\n",
      "Nearest to 😅: たのしも, じゃ, BoccinoBar, ムズカシイ, 確保, 福神, 食っ, ≦)/,\n",
      "Nearest to 😆: プチ, 河原町, ！〟, シア, ぇる, 500, チェキネタ, ～(´▽｀*),\n",
      "Nearest to 😉: 🙉💓, 両手, グッズ, 💁💖, ˃˂💓, 😜💗🎂, 😠😠😠, 乱射,\n",
      "Nearest to 😊: ☀⚡, ٚ˂̶॰, 👑💓, 目指し, 香里, クエ, ！！！！！！！！！！！！！！！！, マジレス,\n",
      "Nearest to 😋: ゎふゎでもない, 😤💨💨, 帰れる, 👋😃, ぶさ, 舛添, 思いっきり, ふい,\n",
      "Nearest to 😎: 😻💚, ︎💚, ベリー, 植木, 😤🌟, 優希, もらお, ‧,\n",
      "Nearest to 😍: 🌷💗, イチカワ, 評判, 吹き飛び, 🎂🎉👏🏻🍰🎁💝, にくく, whatdoIexpect, 🔱,\n",
      "Nearest to 😘: mappy, 端っこ, 😣💧, ピク, 内, ぃがやさん, 下がり目, むちゃくちゃ,\n",
      "Nearest to 😗: 賑やか, 🐠🐠🐠🐠, 😘🙌, ますみ, ひびき, ∂, つまみ食い, 気づか,\n",
      "Nearest to 😙: 海部, 目指せ, _-, イケメンアイドル, 😢😢💕💕💕, もしかして, 表情, 剤,\n",
      "Nearest to 😚: ｸﾞｰﾙ, ～～～✋, にく, にて, (´△｀), 🔥🔥🔥, 資格, tomelt,\n",
      "Average loss at step 92000: 0.360605\n",
      "Average loss at step 94000: 0.392779\n",
      "Average loss at step 96000: 0.392853\n",
      "Average loss at step 98000: 0.392960\n",
      "Average loss at step 100000: 0.379405\n",
      "Nearest to 😀: ファイトー, KANA, ゃねぇよっっ, /., なんて, 😄🤘, かれる, 検討,\n",
      "Nearest to 😁: シャー, 地元, ゃもんどゆこと, はなそ, ifyou, ❤, (*｀･, びゅ,\n",
      "Nearest to 😂: かいせ, 🍋, かっぱえびせん, かれ, 🎊💗, 生え, 안더워, そく,\n",
      "Nearest to 😃: ゅかれたまぁん, おさらば, ぷる, ？✋, でんぱ, ちょうど, 9998, manlv,\n",
      "Nearest to 😄: ズボン, 島崎, ｳﾗﾔﾏ, でかけ, ゅきわん, トライアングルワンピ, 程よく, さやか,\n",
      "Nearest to 😅: じゃ, たのしも, BoccinoBar, ムズカシイ, 確保, 福神, 食っ, ≦)/,\n",
      "Nearest to 😆: プチ, 河原町, ！〟, シア, ぇる, 500, チェキネタ, ～(´▽｀*),\n",
      "Nearest to 😉: 😜💗🎂, グッズ, 両手, 💁💖, 🙉💓, 小次郎, ˃˂💓, 乱射,\n",
      "Nearest to 😊: 👑💓, ☀⚡, 香里, ٚ˂̶॰, ！！！！！！！！！！！！！！！！, 👶🏼🌱, 城山, 💱😆,\n",
      "Nearest to 😋: ゎふゎでもない, 😤💨💨, 帰れる, 👋😃, ぶさ, 舛添, 思いっきり, ふい,\n",
      "Nearest to 😎: 😻💚, ︎💚, ベリー, 植木, 😤🌟, 優希, もらお, ‧,\n",
      "Nearest to 😍: 🌷💗, イチカワ, 評判, 吹き飛び, 🎂🎉👏🏻🍰🎁💝, にくく, whatdoIexpect, 🔱,\n",
      "Nearest to 😘: mappy, 端っこ, 😣💧, ピク, 内, ぃがやさん, 下がり目, むちゃくちゃ,\n",
      "Nearest to 😗: 賑やか, 🐠🐠🐠🐠, 😘🙌, ますみ, ひびき, ∂, つまみ食い, 気づか,\n",
      "Nearest to 😙: 海部, 目指せ, _-, イケメンアイドル, 😢😢💕💕💕, イギリス, もしかして, 表情,\n",
      "Nearest to 😚: ｸﾞｰﾙ, ～～～✋, にく, にて, (´△｀), 🔥🔥🔥, 資格, tomelt,\n"
     ]
    }
   ],
   "source": [
    "num_steps = 100001\n",
    "with tf.Session(graph=graph) as session:\n",
    "  tf.initialize_all_variables().run()\n",
    "  print('Initialized')\n",
    "  average_loss = 0\n",
    "\n",
    "  for step in range(num_steps):\n",
    "    batch_data, batch_labels = generate_batch(batch_size)\n",
    "    feed_dict = {train_dataset : batch_data, train_labels : batch_labels}\n",
    "    _, l = session.run([optimizer, loss], feed_dict=feed_dict)\n",
    "    average_loss += l\n",
    "    if step % 2000 == 0:\n",
    "      if step > 0:\n",
    "        average_loss = average_loss / 2000\n",
    "      # The average loss is an estimate of the loss over the last 2000 batches.\n",
    "      print('Average loss at step %d: %f' % (step, average_loss))\n",
    "      average_loss = 0\n",
    "    # note that this is expensive (~20% slowdown if computed every 500 steps)\n",
    "    if step % 10000 == 0:\n",
    "      sim = similarity.eval()\n",
    "      for i in range(valid_size):\n",
    "        valid_word = reverse_dictionary[valid_examples[i]]\n",
    "        top_k = 8 # number of nearest neighbors\n",
    "        nearest = (-sim[i, :]).argsort()[1:top_k+1]\n",
    "        log = 'Nearest to %s:' % valid_word\n",
    "        for k in range(top_k): \n",
    "          if nearest[k] < len(reverse_dictionary):\n",
    "            close_word = reverse_dictionary[nearest[k]]\n",
    "          else:\n",
    "           close_word = nearest[k]\n",
    "          log = '%s %s,' % (log, close_word)\n",
    "        print(log)\n",
    "  final_embeddings = normalized_embeddings.eval()"
   ]
  },
  {
   "cell_type": "code",
   "execution_count": 555,
   "metadata": {
    "collapsed": false
   },
   "outputs": [],
   "source": [
    "num_points = 100\n",
    "\n",
    "tsne = TSNE(perplexity=30, n_components=2, init='pca', n_iter=5000)\n",
    "two_d_embeddings = tsne.fit_transform(final_embeddings[1:num_points+1, :])"
   ]
  },
  {
   "cell_type": "code",
   "execution_count": 556,
   "metadata": {
    "collapsed": false
   },
   "outputs": [
    {
     "data": {
      "image/png": "[encoded data removed]",
      "text/plain": [
       "<matplotlib.figure.Figure at 0x11268cdd8>"
      ]
     },
     "metadata": {},
     "output_type": "display_data"
    }
   ],
   "source": [
    "from matplotlib.font_manager import FontProperties\n",
    "fp = FontProperties(fname='/Library/Fonts/Arial Unicode.ttf');\n",
    "# matplotlib.rc('font', family='Arial Unicode')\n",
    "\n",
    "def plot(embeddings, labels):\n",
    "  assert embeddings.shape[0] >= len(labels), 'More labels than embeddings'\n",
    "  pylab.figure(figsize=(15,15))  # in inches\n",
    "  for i, label in enumerate(labels):\n",
    "    x, y = embeddings[i,:]\n",
    "    pylab.scatter(x, y)\n",
    "    pylab.annotate(label, xy=(x, y), xytext=(5, 2), textcoords='offset points',\n",
    "                   ha='right', va='bottom', fontproperties = fp)\n",
    "  pylab.show()\n",
    "\n",
    "words = [reverse_dictionary[i] for i in range(1, num_points+1)]\n",
    "plot(two_d_embeddings, words)"
   ]
  },
  {
   "cell_type": "code",
   "execution_count": null,
   "metadata": {
    "collapsed": true
   },
   "outputs": [],
   "source": []
  }
 ],
 "metadata": {
  "kernelspec": {
   "display_name": "Python 3",
   "language": "python",
   "name": "python3"
  },
  "language_info": {
   "codemirror_mode": {
    "name": "ipython",
    "version": 3
   },
   "file_extension": ".py",
   "mimetype": "text/x-python",
   "name": "python",
   "nbconvert_exporter": "python",
   "pygments_lexer": "ipython3",
   "version": "3.5.1"
  }
 },
 "nbformat": 4,
 "nbformat_minor": 0
}
